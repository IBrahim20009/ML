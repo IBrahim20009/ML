{
 "cells": [
  {
   "cell_type": "code",
   "execution_count": 1,
   "id": "0d273d3b",
   "metadata": {},
   "outputs": [],
   "source": [
    "import pandas as pd \n",
    "from sklearn.model_selection import train_test_split"
   ]
  },
  {
   "cell_type": "code",
   "execution_count": null,
   "id": "947bd0a3",
   "metadata": {},
   "outputs": [],
   "source": [
    "data = pd.read_csv(\"data.csv\")\n",
    "x_train , x_test , y_train , y_test = train_test_split(data,test_size=0.2,random_state=42)"
   ]
  },
  {
   "cell_type": "markdown",
   "id": "68f8ce3d",
   "metadata": {},
   "source": [
    "https://maroon-heron-399.notion.site/Sklearn-250ca7e84060801798fbe06774be009f"
   ]
  },
  {
   "cell_type": "markdown",
   "id": "591b01e0",
   "metadata": {},
   "source": []
  }
 ],
 "metadata": {
  "kernelspec": {
   "display_name": "TorchConda",
   "language": "python",
   "name": "python3"
  },
  "language_info": {
   "codemirror_mode": {
    "name": "ipython",
    "version": 3
   },
   "file_extension": ".py",
   "mimetype": "text/x-python",
   "name": "python",
   "nbconvert_exporter": "python",
   "pygments_lexer": "ipython3",
   "version": "3.10.16"
  }
 },
 "nbformat": 4,
 "nbformat_minor": 5
}
