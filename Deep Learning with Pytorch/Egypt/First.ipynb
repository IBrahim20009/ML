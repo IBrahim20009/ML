{
 "cells": [
  {
   "cell_type": "markdown",
   "id": "25aee6a3",
   "metadata": {},
   "source": [
    "Importing Pytorch"
   ]
  },
  {
   "cell_type": "code",
   "execution_count": 3,
   "id": "c3acf0c4",
   "metadata": {},
   "outputs": [],
   "source": [
    "import torch"
   ]
  },
  {
   "cell_type": "markdown",
   "id": "ead0fbca",
   "metadata": {},
   "source": [
    "Create a scaler"
   ]
  },
  {
   "cell_type": "code",
   "execution_count": null,
   "id": "d941f386",
   "metadata": {},
   "outputs": [
    {
     "data": {
      "text/plain": [
       "(tensor(5), 0)"
      ]
     },
     "execution_count": 6,
     "metadata": {},
     "output_type": "execute_result"
    }
   ],
   "source": [
    "scaler = torch.tensor(5)\n",
    "scaler, scaler.ndim"
   ]
  },
  {
   "cell_type": "markdown",
   "id": "bd3ed4f3",
   "metadata": {},
   "source": [
    "Create a vector"
   ]
  },
  {
   "cell_type": "code",
   "execution_count": null,
   "id": "652e65fd",
   "metadata": {},
   "outputs": [
    {
     "data": {
      "text/plain": [
       "(tensor([7, 7]), 1)"
      ]
     },
     "execution_count": 9,
     "metadata": {},
     "output_type": "execute_result"
    }
   ],
   "source": [
    "vector = torch.tensor([7,7])\n",
    "vector , vector.ndim "
   ]
  },
  {
   "cell_type": "markdown",
   "id": "01bbadde",
   "metadata": {},
   "source": [
    "We cannot use the .item() for the vector , We can use it only for the scaler tensor"
   ]
  },
  {
   "cell_type": "markdown",
   "id": "0cd19c5a",
   "metadata": {},
   "source": [
    "##### Tensor Shape"
   ]
  },
  {
   "cell_type": "code",
   "execution_count": 12,
   "id": "7f025876",
   "metadata": {},
   "outputs": [
    {
     "data": {
      "text/plain": [
       "torch.Size([])"
      ]
     },
     "execution_count": 12,
     "metadata": {},
     "output_type": "execute_result"
    }
   ],
   "source": [
    "vector.shape#=>torch.Size([2])\n",
    "scaler.shape#=>torch.Size([])"
   ]
  },
  {
   "cell_type": "markdown",
   "id": "5566b827",
   "metadata": {},
   "source": [
    "Rondom tensor"
   ]
  },
  {
   "cell_type": "code",
   "execution_count": 20,
   "id": "175ccb39",
   "metadata": {},
   "outputs": [],
   "source": [
    "randomtensor = torch.rand(size=(1,2,3))\n"
   ]
  },
  {
   "cell_type": "code",
   "execution_count": 21,
   "id": "f7c575aa",
   "metadata": {},
   "outputs": [
    {
     "data": {
      "text/plain": [
       "tensor([[[0.8644, 0.7072, 0.7048],\n",
       "         [0.6823, 0.6324, 0.9051]]])"
      ]
     },
     "execution_count": 21,
     "metadata": {},
     "output_type": "execute_result"
    }
   ],
   "source": [
    "randomtensor"
   ]
  },
  {
   "cell_type": "code",
   "execution_count": null,
   "id": "538a0fb8",
   "metadata": {},
   "outputs": [],
   "source": []
  }
 ],
 "metadata": {
  "kernelspec": {
   "display_name": "TorchConda",
   "language": "python",
   "name": "python3"
  },
  "language_info": {
   "codemirror_mode": {
    "name": "ipython",
    "version": 3
   },
   "file_extension": ".py",
   "mimetype": "text/x-python",
   "name": "python",
   "nbconvert_exporter": "python",
   "pygments_lexer": "ipython3",
   "version": "3.10.16"
  }
 },
 "nbformat": 4,
 "nbformat_minor": 5
}
