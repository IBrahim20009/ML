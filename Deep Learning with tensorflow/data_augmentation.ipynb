{
 "cells": [
  {
   "cell_type": "code",
   "execution_count": 4,
   "metadata": {},
   "outputs": [
    {
     "name": "stdout",
     "output_type": "stream",
     "text": [
      "There is a GPU\n"
     ]
    }
   ],
   "source": [
    "# Libaries \n",
    "import tensorflow_datasets as tfda\n",
    "from tensorflow import keras \n",
    "import tensorflow as tf\n",
    "from matplotlib import pyplot as plt\n",
    "\n",
    "# Vars we use it in the code\n",
    "AUTOTUNE = tf.data.experimental.AUTOTUNE\n",
    "BATCHSIZE = 32\n",
    "\n",
    "# Aviod any GPU problems \n",
    "gpus = tf.config.experimental.list_physical_devices(\"GPU\")\n",
    "for gpu in gpus :\n",
    "    tf.config.experimental.set_memory_growth(gpu,True)\n",
    "if tf.config.experimental.list_physical_devices(\"GPU\"):\n",
    "    print(\"There is a GPU\")\n",
    "else:\n",
    "    print(\"There isn't any GPU\")\n",
    "\n",
    "# Load data\n",
    "(ds_train,ds_test) , ds_info = tfda.load(\n",
    "    \"mnist\",\n",
    "    split= [\"train\",\"test\"],\n",
    "    shuffle_files=True,\n",
    "    as_supervised=True,\n",
    "    with_info=True\n",
    ")\n",
    "# fig =  tfda.show_examples(ds_train,ds_info,rows=4,cols = 4)\n",
    "# print(ds_info)\n",
    "\n",
    "# Function to normalize the images \n",
    "def augment(image,label):\n",
    "        new_height = new_width = 32\n",
    "        image=tf.image.resize(image,(new_height,new_width))\n",
    "\n",
    "        if tf.random.uniform((),minval=0,maxval=0.1) <0.1:\n",
    "             image=tf.tile \n",
    "\n",
    "# make the ds_train more easier to make the model to train it\n",
    "ds_train = ds_train.map(augment,num_parallel_calls=AUTOTUNE)\n",
    "ds_train=ds_train.cache()\n",
    "ds_train=ds_train.shuffle(ds_info.splits[\"train\"].num_examples)\n",
    "ds_train=ds_train.batch(BATCHSIZE)\n",
    "ds_train=ds_train.prefetch(AUTOTUNE)\n",
    "\n",
    "# make the ds_test more easier to make the model to train it\n",
    "ds_test = ds_test.map(augment,num_parallel_calls=AUTOTUNE)\n",
    "ds_test = ds_test.batch(128)\n",
    "ds_test = ds_test.prefetch(AUTOTUNE)\n"
   ]
  }
 ],
 "metadata": {
  "kernelspec": {
   "display_name": "CondaINT",
   "language": "python",
   "name": "python3"
  },
  "language_info": {
   "codemirror_mode": {
    "name": "ipython",
    "version": 3
   },
   "file_extension": ".py",
   "mimetype": "text/x-python",
   "name": "python",
   "nbconvert_exporter": "python",
   "pygments_lexer": "ipython3",
   "version": "3.10.16"
  }
 },
 "nbformat": 4,
 "nbformat_minor": 2
}
