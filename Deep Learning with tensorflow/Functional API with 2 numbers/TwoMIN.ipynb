{
 "cells": [
  {
   "cell_type": "code",
   "execution_count": 3,
   "metadata": {},
   "outputs": [],
   "source": [
    "from keras.layers import Dense, Conv2D,BatchNormalization,MaxPooling2D,Flatten,Dropout\n",
    "from keras import layers , regularizers,activations\n",
    "from keras.datasets import mnist\n",
    "from tensorflow import keras\n",
    "import tensorflow as tf\n",
    "import pandas as pd\n",
    "import os "
   ]
  },
  {
   "cell_type": "code",
   "execution_count": 4,
   "metadata": {},
   "outputs": [],
   "source": [
    "BATCH_SIZE = 64\n",
    "WEIGHT_DECAY = 0.001\n",
    "LEARNING_RATE = 0.001"
   ]
  },
  {
   "cell_type": "code",
   "execution_count": 5,
   "metadata": {},
   "outputs": [],
   "source": [
    "gpus = tf.config.experimental.list_physical_devices('GPU')\n",
    "for gpu in gpus :\n",
    "    tf.config.experimental.set_memory_growth(gpu,True)"
   ]
  },
  {
   "cell_type": "code",
   "execution_count": 6,
   "metadata": {},
   "outputs": [
    {
     "name": "stdout",
     "output_type": "stream",
     "text": [
      "GPU is available\n"
     ]
    }
   ],
   "source": [
    "if tf.config.experimental.list_physical_devices('GPU'):\n",
    "    print(\"GPU is available\")\n",
    "else:\n",
    "    print(\"No GPU detected\")\n"
   ]
  },
  {
   "cell_type": "code",
   "execution_count": 7,
   "metadata": {},
   "outputs": [],
   "source": [
    "\n",
    "\n",
    "train_df = pd.read_csv(\"train.csv\")\n",
    "test_df = pd.read_csv(\"test.csv\")\n",
    "train_images = os.getcwd() + \"/train_images/\" + train_df.iloc[:, 0].values\n",
    "test_images = os.getcwd() + \"/test_images/\" + test_df.iloc[:, 0].values\n",
    "\n",
    "train_labels = train_df.iloc[:, 1:].values\n",
    "test_labels = test_df.iloc[:, 1:].values\n",
    "\n",
    "\n",
    "def read_image(image_path, label):\n",
    "    image = tf.io.read_file(image_path)\n",
    "    image = tf.image.decode_image(image, channels=1, dtype=tf.float32)\n",
    "\n",
    "    # In older versions you need to set shape in order to avoid error\n",
    "    # on newer (2.3.0+) the following 3 lines can safely be removed\n",
    "    image.set_shape((64, 64, 1))\n",
    "    label[0].set_shape([])\n",
    "    label[1].set_shape([])\n",
    "\n",
    "    labels = {\"first_num\": label[0], \"second_num\": label[1]}\n",
    "    return image, labels\n",
    "\n",
    "\n",
    "AUTOTUNE = tf.data.experimental.AUTOTUNE\n",
    "train_dataset = tf.data.Dataset.from_tensor_slices((train_images, train_labels))\n",
    "train_dataset = (\n",
    "    train_dataset.shuffle(buffer_size=len(train_labels))\n",
    "    .map(read_image)\n",
    "    .batch(batch_size=BATCH_SIZE)\n",
    "    .prefetch(buffer_size=AUTOTUNE)\n",
    ")\n",
    "\n",
    "test_dataset = tf.data.Dataset.from_tensor_slices((test_images, test_labels))\n",
    "test_dataset = (\n",
    "    test_dataset.map(read_image)\n",
    "    .batch(batch_size=BATCH_SIZE)\n",
    "    .prefetch(buffer_size=AUTOTUNE)\n",
    ")"
   ]
  },
  {
   "cell_type": "code",
   "execution_count": 8,
   "metadata": {},
   "outputs": [],
   "source": [
    "inputs = keras.Input(shape=(64,64,1))\n",
    "\n",
    "x=Conv2D(\n",
    "    filters=32,\n",
    "    kernel_size=3,\n",
    "    padding='same',\n",
    "    kernel_regularizer= regularizers.l2(WEIGHT_DECAY),\n",
    "    )(inputs)\n",
    "x=BatchNormalization()(x)\n",
    "x=activations.relu(x)\n",
    "\n",
    "x=Conv2D(64,3,kernel_regularizer=regularizers.l2(WEIGHT_DECAY))(x)\n",
    "x=BatchNormalization()(x)\n",
    "x=activations.relu(x)\n",
    "x=MaxPooling2D()(x)\n",
    "\n",
    "\n",
    "x=Conv2D(64,3,kernel_regularizer=regularizers.l2(WEIGHT_DECAY),activation='relu')(x)\n",
    "\n",
    "x=Conv2D(128,3,kernel_regularizer=regularizers.l2(WEIGHT_DECAY),activation='relu')(x)\n",
    "x=MaxPooling2D()(x)\n",
    "\n",
    "x=Flatten()(x)\n",
    "\n",
    "x=Dense(128,activation='relu')(x)\n",
    "x=Dropout(0.5)(x)\n",
    "x=Dense(64,activation='relu')(x)\n",
    "\n",
    "output1 = Dense(10,name='first_num',activation='softmax')(x)\n",
    "output2=Dense(10,name='second_num',activation='softmax')(x)"
   ]
  },
  {
   "cell_type": "code",
   "execution_count": 9,
   "metadata": {},
   "outputs": [
    {
     "name": "stdout",
     "output_type": "stream",
     "text": [
      "Epoch 1/5\n",
      "1000/1000 [==============================] - 118s 110ms/step - loss: 1.8556 - first_num_loss: 0.8554 - second_num_loss: 0.8704 - first_num_accuracy: 0.6967 - second_num_accuracy: 0.6933\n",
      "Epoch 2/5\n",
      "1000/1000 [==============================] - 45s 45ms/step - loss: 0.5572 - first_num_loss: 0.2300 - second_num_loss: 0.2320 - first_num_accuracy: 0.9232 - second_num_accuracy: 0.9232\n",
      "Epoch 3/5\n",
      "1000/1000 [==============================] - 44s 44ms/step - loss: 0.3969 - first_num_loss: 0.1586 - second_num_loss: 0.1506 - first_num_accuracy: 0.9476 - second_num_accuracy: 0.9504\n",
      "Epoch 4/5\n",
      "1000/1000 [==============================] - 44s 44ms/step - loss: 0.3235 - first_num_loss: 0.1219 - second_num_loss: 0.1189 - first_num_accuracy: 0.9610 - second_num_accuracy: 0.9613\n",
      "Epoch 5/5\n",
      "1000/1000 [==============================] - 41s 41ms/step - loss: 0.2743 - first_num_loss: 0.0977 - second_num_loss: 0.0972 - first_num_accuracy: 0.9681 - second_num_accuracy: 0.9686\n",
      "313/313 [==============================] - 14s 44ms/step - loss: 1.2546 - first_num_loss: 0.3215 - second_num_loss: 0.8550 - first_num_accuracy: 0.9064 - second_num_accuracy: 0.7774\n"
     ]
    },
    {
     "data": {
      "text/plain": [
       "[1.2546087503433228,\n",
       " 0.32152503728866577,\n",
       " 0.8549602627754211,\n",
       " 0.9063500165939331,\n",
       " 0.7773500084877014]"
      ]
     },
     "execution_count": 9,
     "metadata": {},
     "output_type": "execute_result"
    }
   ],
   "source": [
    "model = keras.Model(inputs=inputs,outputs=[output1,output2])\n",
    "model.compile(\n",
    "    optimizer=keras.optimizers.Adam(LEARNING_RATE),\n",
    "    loss=[keras.losses.SparseCategoricalCrossentropy(),\n",
    "          keras.losses.SparseCategoricalCrossentropy()],\n",
    "    metrics=['accuracy']\n",
    ")\n",
    "model.fit(train_dataset,epochs=5)\n",
    "model.evaluate(test_dataset)"
   ]
  },
  {
   "cell_type": "code",
   "execution_count": null,
   "metadata": {},
   "outputs": [],
   "source": []
  }
 ],
 "metadata": {
  "kernelspec": {
   "display_name": "JoYS2025",
   "language": "python",
   "name": "python3"
  },
  "language_info": {
   "codemirror_mode": {
    "name": "ipython",
    "version": 3
   },
   "file_extension": ".py",
   "mimetype": "text/x-python",
   "name": "python",
   "nbconvert_exporter": "python",
   "pygments_lexer": "ipython3",
   "version": "3.10.15"
  }
 },
 "nbformat": 4,
 "nbformat_minor": 2
}
