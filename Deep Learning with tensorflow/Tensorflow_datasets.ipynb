{
 "cells": [
  {
   "cell_type": "code",
   "execution_count": null,
   "metadata": {},
   "outputs": [
    {
     "name": "stdout",
     "output_type": "stream",
     "text": [
      "There is a GPU\n"
     ]
    }
   ],
   "source": [
    "# Libaries \n",
    "import tensorflow_datasets as tfda\n",
    "from tensorflow import keras \n",
    "import tensorflow as tf\n",
    "from matplotlib import pyplot as plt\n",
    "from keras import layers\n",
    "import tensorflow_text as tft\n",
    "# Vars we use it in the code\n",
    "AUTOTUNE = tf.data.experimental.AUTOTUNE\n",
    "BATCHSIZE = 64\n",
    "\n",
    "# Aviod any GPU problems \n",
    "gpus = tf.config.experimental.list_physical_devices(\"GPU\")\n",
    "for gpu in gpus :\n",
    "    tf.config.experimental.set_memory_growth(gpu,True)\n",
    "if tf.config.experimental.list_physical_devices(\"GPU\"):\n",
    "    print(\"There is a GPU\")\n",
    "else:\n",
    "    print(\"There isn't any GPU\")\n",
    "\n",
    "# Load data\n",
    "(ds_train,ds_test) , ds_info = tfda.load(\n",
    "    \"imdb_reviews\",\n",
    "    split=[\"train\",\"test\"],\n",
    "    shuffle_files=True,\n",
    "    as_supervised=True,\n",
    "    with_info=True)\n",
    "\n",
    "\n"
   ]
  },
  {
   "cell_type": "code",
   "execution_count": 7,
   "metadata": {},
   "outputs": [],
   "source": [
    "# Setting a tokenizer\n",
    "tokenizer = tft.WhitespaceTokenizer()\n",
    "\n",
    "def build_vocabulary():\n",
    "    vocabulary = set()\n",
    "    \n",
    "    for text, _ in ds_train:\n",
    "        text_str = text.numpy().decode(\"utf-8\").lower()\n",
    "        tokens = tokenizer.tokenize(text_str).numpy()  \n",
    "        vocabulary.update(tokens)\n",
    "    \n",
    "    return vocabulary\n",
    "vocabulary = build_vocabulary()\n",
    "# I cannot complete beacuse I am using a young version of tensorflow"
   ]
  }
 ],
 "metadata": {
  "kernelspec": {
   "display_name": "CondaINT",
   "language": "python",
   "name": "python3"
  },
  "language_info": {
   "codemirror_mode": {
    "name": "ipython",
    "version": 3
   },
   "file_extension": ".py",
   "mimetype": "text/x-python",
   "name": "python",
   "nbconvert_exporter": "python",
   "pygments_lexer": "ipython3",
   "version": "3.10.16"
  }
 },
 "nbformat": 4,
 "nbformat_minor": 2
}
