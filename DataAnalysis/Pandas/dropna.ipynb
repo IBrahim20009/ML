{
 "cells": [
  {
   "cell_type": "code",
   "execution_count": 4,
   "metadata": {},
   "outputs": [
    {
     "name": "stdout",
     "output_type": "stream",
     "text": [
      "<class 'pandas.core.frame.DataFrame'>\n",
      "RangeIndex: 1864 entries, 0 to 1863\n",
      "Data columns (total 13 columns):\n",
      " #   Column                         Non-Null Count  Dtype  \n",
      "---  ------                         --------------  -----  \n",
      " 0   Level_of_Hemoglobin            1864 non-null   float64\n",
      " 1   Genetic_Pedigree_Coefficient   1864 non-null   float64\n",
      " 2   Age                            1864 non-null   int64  \n",
      " 3   BMI                            1864 non-null   int64  \n",
      " 4   Sex                            1864 non-null   int64  \n",
      " 5   Smoking                        1864 non-null   int64  \n",
      " 6   Physical_activity              1864 non-null   int64  \n",
      " 7   salt_content_in_the_diet       1864 non-null   int64  \n",
      " 8   alcohol_consumption_per_day    1864 non-null   int64  \n",
      " 9   Level_of_Stress                1864 non-null   int64  \n",
      " 10  Chronic_kidney_disease         1864 non-null   int64  \n",
      " 11  Adrenal_and_thyroid_disorders  1864 non-null   int64  \n",
      " 12  Blood_Pressure_Abnormality     1864 non-null   int64  \n",
      "dtypes: float64(2), int64(11)\n",
      "memory usage: 189.4 KB\n"
     ]
    }
   ],
   "source": [
    "import pandas as pd \n",
    "\n",
    "df = pd.read_csv(\"data.csv\")\n",
    "df \n",
    "\n",
    "df.info() # gives information for the data in the csv file \n",
    "df.dropna(how=\"all\") # del any row is not fulled \n",
    "df.dropna(how=\"all\",inplace=True) # del any row is not fulled and save it to the df \n"
   ]
  },
  {
   "cell_type": "code",
   "execution_count": 10,
   "metadata": {},
   "outputs": [
    {
     "data": {
      "text/plain": [
       "'\\nIf the data is string we can fliter it using string methods in python \\nlike (\\ndf[df[thing].str.contains(text)] \\n,df[df[thing].str.startswith(text)]\\n,df[df[thing].str.endswith(text)]\\n)\\nbut I don\\'t have a data with strings :(.\\n\\n\\nAnd we use for this things (&) for (and) and (|) for (or).\\nlike (\\ndf[(df[\"text\"]==1) & (df[\"text\"]>=50)], # and \\ndf[(df[\"text\"]==1) | (df[\"text\"]>=50)] # or \\n)\\n'"
      ]
     },
     "execution_count": 10,
     "metadata": {},
     "output_type": "execute_result"
    }
   ],
   "source": [
    "df[df[\"Sex\"]==1] # gives only the \"1\" in the \"Sex\" columns \n",
    "df[df[\"Sex\"]==0] # gives only the \"0\" in the \"Sex\" columns \n",
    "\n",
    "df[(df[\"Sex\"]==1) & (df[\"Age\"]>=50)] # gives only the \"1\" in the \"Sex\" columns and \"Age\" >= 50\n",
    "\n",
    "\"\"\"\n",
    "If the data is string we can fliter it using string methods in python \n",
    "like (\n",
    "df[df[thing].str.contains(text)] \n",
    ",df[df[thing].str.startswith(text)]\n",
    ",df[df[thing].str.endswith(text)]\n",
    ")\n",
    "but I don't have a data with strings :(.\n",
    "\n",
    "\n",
    "And we use for this things (&) for (and) and (|) for (or).\n",
    "like (\n",
    "df[(df[\"text\"]==1) & (df[\"text\"]>=50)], # and \n",
    "df[(df[\"text\"]==1) | (df[\"text\"]>=50)] # or \n",
    ")\n",
    "\"\"\"\n"
   ]
  },
  {
   "cell_type": "code",
   "execution_count": 30,
   "metadata": {},
   "outputs": [
    {
     "data": {
      "text/plain": [
       "0       11.28\n",
       "1        9.75\n",
       "2       10.79\n",
       "3       11.00\n",
       "4       14.17\n",
       "        ...  \n",
       "1859    10.14\n",
       "1860    11.77\n",
       "1861    16.91\n",
       "1862    11.15\n",
       "1863    11.36\n",
       "Name: Level_of_Hemoglobin, Length: 1864, dtype: float64"
      ]
     },
     "execution_count": 30,
     "metadata": {},
     "output_type": "execute_result"
    }
   ],
   "source": [
    "mylist= []\n",
    "\n",
    "x=df.iloc[:,0]\n",
    "x"
   ]
  }
 ],
 "metadata": {
  "kernelspec": {
   "display_name": "CondaINT",
   "language": "python",
   "name": "python3"
  },
  "language_info": {
   "codemirror_mode": {
    "name": "ipython",
    "version": 3
   },
   "file_extension": ".py",
   "mimetype": "text/x-python",
   "name": "python",
   "nbconvert_exporter": "python",
   "pygments_lexer": "ipython3",
   "version": "3.10.16"
  }
 },
 "nbformat": 4,
 "nbformat_minor": 2
}
